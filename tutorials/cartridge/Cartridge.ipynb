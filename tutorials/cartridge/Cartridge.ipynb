{
 "cells": [
  {
   "cell_type": "markdown",
   "metadata": {},
   "source": [
    "# Creating an Interactive Executable Circuit Model of the Lamina Cartridge"
   ]
  },
  {
   "cell_type": "markdown",
   "metadata": {},
   "source": [
    "In this tutorial we walk through an eample of creating an interactive executable circuit model of the lamina cartridge. The starting point of the example is the connectomic data of a lamina cartridge. Through the example, we will highlight core FlyBrainLab capabilities to load data, to query and analyze data, to create interactive circuit diagram and to execute the resulting circuit.\n",
    "\n",
    "Before we begin, make sure you have the following set up in the backend servers.\n",
    "- Assuming that you have already started FlyBrainLab, you will need to create a new NeuroArch server by\n",
    "```\n",
    "ffbo/bin/run_neuroarch.sh -b lamina -s lamina -m o\n",
    "```\n",
    "The option `-m o` will overwrite any existing database folder `lamina` and create a new writable one. If you run into issues below and mess up with the database, you can always run the above command to restart fresh. If you do not need to overwrite the database, just `-m w` to open it in writable model.\n",
    "\n",
    "- Then create a new NLP server by reusing medulla app that will give you some basic query capabilities\n",
    "```\n",
    "ffbo/bin/run_nlp.sh -a medulla -s lamina\n",
    "```\n",
    "- Finally, create a adult(lamina) workspace. Configure a new type of FlyBrainLab Workspace with the configuration as displayed below.\n",
    "![processor_Setup](processor_setup.jpg)\n"
   ]
  },
  {
   "cell_type": "code",
   "execution_count": null,
   "metadata": {},
   "outputs": [],
   "source": [
    "import flybrainlab as fbl\n",
    "import flybrainlab.query as fbl_query\n",
    "import flybrainlab.circuit as circuit\n",
    "import pandas as pd\n",
    "import numpy as np\n",
    "import seaborn as sns\n",
    "%matplotlib inline\n",
    "import matplotlib.pyplot as plt"
   ]
  },
  {
   "cell_type": "code",
   "execution_count": null,
   "metadata": {},
   "outputs": [],
   "source": [
    "# acquire the client object and make sure that the widgets are associated with the client.\n",
    "client = fbl.get_client()\n",
    "for i in fbl.widget_manager.widgets:\n",
    "    if fbl.widget_manager.widgets[i].widget_id not in\\\n",
    "            fbl.client_manager.clients[\n",
    "                 fbl.widget_manager.widgets[i].client_id\n",
    "             ]['widgets']:\n",
    "        fbl.client_manager.clients[\n",
    "            fbl.widget_manager.widgets[i].client_id\n",
    "            ]['widgets'].append(\n",
    "                fbl.widget_manager.widgets[i].widget_id)"
   ]
  },
  {
   "cell_type": "markdown",
   "metadata": {},
   "source": [
    "## Loading connectome data into the NeuroArch database"
   ]
  },
  {
   "cell_type": "markdown",
   "metadata": {},
   "source": [
    "Data can be loaded into NeuroArch database from the FlyBrainLab frontend by using the NeuroArch_Mirror class that mirros the high-level NeuroArch API."
   ]
  },
  {
   "cell_type": "code",
   "execution_count": null,
   "metadata": {},
   "outputs": [],
   "source": [
    "db = fbl_query.NeuroArch_Mirror(client)"
   ]
  },
  {
   "cell_type": "markdown",
   "metadata": {},
   "source": [
    "Create a species:"
   ]
  },
  {
   "cell_type": "code",
   "execution_count": null,
   "metadata": {},
   "outputs": [],
   "source": [
    "species=db.add_Species('Drosophila melanogaster',\n",
    "                       stage = 'adult',\n",
    "                       sex = 'female',\n",
    "                       synonyms = [\n",
    "                               'fruit fly',\n",
    "                               'common fruit fly',\n",
    "                               'vinegar fly'\n",
    "                        ])"
   ]
  },
  {
   "cell_type": "markdown",
   "metadata": {},
   "source": [
    "Create a data source:"
   ]
  },
  {
   "cell_type": "code",
   "execution_count": null,
   "metadata": {},
   "outputs": [],
   "source": [
    "data_source = db.add_DataSource(\n",
    "                'cartridge', \n",
    "                version = '1.0',\n",
    "                url = '',\n",
    "                description = 'Rivera-Alba et al.,\\\n",
    "                               Current Biology 2011',\n",
    "                species = list(species.keys())[0])"
   ]
  },
  {
   "cell_type": "markdown",
   "metadata": {},
   "source": [
    "Make the above data source default."
   ]
  },
  {
   "cell_type": "code",
   "execution_count": null,
   "metadata": {},
   "outputs": [
    {
     "name": "stdout",
     "output_type": "stream",
     "text": [
      "[FBL NA 2022-11-14 14:06:49,156] Default datasource set\n"
     ]
    }
   ],
   "source": [
    "db.select_DataSource(list(data_source.keys())[0])"
   ]
  },
  {
   "cell_type": "markdown",
   "metadata": {},
   "source": [
    "Add the lamina neuropil."
   ]
  },
  {
   "cell_type": "code",
   "execution_count": null,
   "metadata": {},
   "outputs": [],
   "source": [
    "lam = db.add_Neuropil('LAM(L)', \n",
    "                      synonyms = ['left lamina'])"
   ]
  },
  {
   "cell_type": "markdown",
   "metadata": {},
   "source": [
    "Reading neuron data"
   ]
  },
  {
   "cell_type": "code",
   "execution_count": null,
   "metadata": {},
   "outputs": [],
   "source": [
    "def load_swc(file_name):\n",
    "    df = pd.read_csv(file_name, \n",
    "                     sep = ' ',\n",
    "                     header = None,\n",
    "                     comment = '#',\n",
    "                     index_col = False,\n",
    "                     names = [\n",
    "                         'sample', 'identifier',\n",
    "                         'x', 'y', 'z', 'r', 'parent'],\n",
    "                    skipinitialspace = True)\n",
    "    return df\n",
    "\n",
    "neuron_list = ['R1', 'R2', 'R3', 'R4', 'R5', 'R6',\n",
    "               'L1', 'L2', 'L3', 'L4', 'L5', 'T1',\n",
    "               'a1', 'a2', 'a3', 'a4', 'a5', 'a6',\n",
    "               'C2', 'C3']\n",
    "swc_dir = 'swc'"
   ]
  },
  {
   "cell_type": "markdown",
   "metadata": {},
   "source": [
    "Reading synapse data"
   ]
  },
  {
   "cell_type": "code",
   "execution_count": null,
   "metadata": {},
   "outputs": [],
   "source": [
    "connections = pd.read_csv('connection.csv', index_col = 0)\n",
    "neuron_order = connections.columns.to_list()\n",
    "adjacency = connections.to_numpy()"
   ]
  },
  {
   "cell_type": "markdown",
   "metadata": {},
   "source": [
    "Loading Neuron data into database"
   ]
  },
  {
   "cell_type": "code",
   "execution_count": null,
   "metadata": {},
   "outputs": [],
   "source": [
    "for neuron in neuron_list:\n",
    "    df = load_swc('{}/{}.swc'.format(swc_dir, neuron))\n",
    "    morphology = {'x': (df['x']*0.04).tolist(),\n",
    "                  'y': (df['y']*0.04).tolist(),\n",
    "                  'z': (df['z']*0.04).tolist(),\n",
    "                  'r': (df['r']*0.04).tolist(),\n",
    "                  'parent': df['parent'].tolist(),\n",
    "                  'identifier': [0]*(len(df['x'])),\n",
    "                  'sample': df['sample'].tolist(),\n",
    "                  'type': 'swc'}\n",
    "\n",
    "    arborization = []\n",
    "    arborization.append(\n",
    "        {'type': 'neuropil',\n",
    "         'dendrites': {\n",
    "                'LAM(L)': int(connections.loc[neuron].sum())},\n",
    "         'axons': {\n",
    "                 'LAM(L)': int(connections[neuron].sum())}\n",
    "         })\n",
    "    db.add_Neuron(neuron, # uname\n",
    "                  neuron, # name\n",
    "                  referenceId = neuron, #referenceId\n",
    "                  morphology = morphology,\n",
    "                  arborization = arborization)"
   ]
  },
  {
   "cell_type": "code",
   "execution_count": null,
   "metadata": {},
   "outputs": [],
   "source": [
    "db.flush_edges()"
   ]
  },
  {
   "cell_type": "markdown",
   "metadata": {},
   "source": [
    "Loading synapse data into database"
   ]
  },
  {
   "cell_type": "code",
   "execution_count": null,
   "metadata": {},
   "outputs": [],
   "source": [
    "for post_ind, pre_ind in zip(*np.nonzero(adjacency)):\n",
    "    pre_neuron = neuron_order[pre_ind] \n",
    "    post_neuron = neuron_order[post_ind]\n",
    "    db.add_Synapse(pre_neuron, post_neuron, int(adjacency[post_ind][pre_ind]))"
   ]
  },
  {
   "cell_type": "markdown",
   "metadata": {},
   "source": [
    "## Builidng and exploring cartridge pathway"
   ]
  },
  {
   "cell_type": "code",
   "execution_count": null,
   "metadata": {},
   "outputs": [
    {
     "name": "stdout",
     "output_type": "stream",
     "text": [
      "[FBL NLP 2022-11-14 14:18:02,550] NLP successfully parsed query.\n"
     ]
    }
   ],
   "source": [
    "# query to get all the neurons since we have only a few\n",
    "res1 = client.executeNLPquery('show all')"
   ]
  },
  {
   "cell_type": "markdown",
   "metadata": {},
   "source": [
    "Obtaining the connectivity matrix between neurons"
   ]
  },
  {
   "cell_type": "code",
   "execution_count": null,
   "metadata": {},
   "outputs": [
    {
     "name": "stdout",
     "output_type": "stream",
     "text": [
      "[twisted 2022-11-14 14:18:04,480] /home/ffbo/ffbo/FBLClient/flybrainlab/graph.py:364: builtins.FutureWarning: adjacency_matrix will return a scipy.sparse array instead of a matrix in Networkx 3.0.\n"
     ]
    },
    {
     "data": {
      "image/png": "[encoded data removed]",
      "text/plain": [
       "<Figure size 432x288 with 2 Axes>"
      ]
     },
     "metadata": {
      "needs_background": "light"
     },
     "output_type": "display_data"
    }
   ],
   "source": [
    "g = client.get_neuron_graph(synapse_threshold = 0)\n",
    "M, order = g.adjacency_matrix()\n",
    "sns.heatmap(M, xticklabels = order, yticklabels = order);"
   ]
  },
  {
   "cell_type": "markdown",
   "metadata": {},
   "source": [
    "## Interactive exploration of the circuit diagram"
   ]
  },
  {
   "cell_type": "markdown",
   "metadata": {},
   "source": [
    "Next we interactively build an executable cirucit using a circuit diagram manually created based on the connectivity above. We construct an `ExecutableCircuit` object from the NLP query result above. In this case, there is no model associated with these neurons yet. It initializes a new executable circuit."
   ]
  },
  {
   "cell_type": "code",
   "execution_count": null,
   "metadata": {},
   "outputs": [
    {
     "name": "stdout",
     "output_type": "stream",
     "text": [
      "Model with name cartridge version 1.0 does not exist.                            Initializing a new executable circuit\n"
     ]
    }
   ],
   "source": [
    "c = circuit.ExecutableCircuit(client, res1, model_name = 'cartridge', model_version = '1.0')"
   ]
  },
  {
   "cell_type": "code",
   "execution_count": null,
   "metadata": {},
   "outputs": [],
   "source": [
    "c.initialize_diagram_config(no_send=True)"
   ]
  },
  {
   "cell_type": "markdown",
   "metadata": {},
   "source": [
    "Load a SVG circuit diagram manually created and make it interactive through injecting a piece of standardized JavaScript code into the GFX window."
   ]
  },
  {
   "cell_type": "code",
   "execution_count": null,
   "metadata": {},
   "outputs": [
    {
     "name": "stdout",
     "output_type": "stream",
     "text": [
      "sending circuit configuration to GFX\n"
     ]
    }
   ],
   "source": [
    "diagram = 'cartridge.svg'\n",
    "jsfilename = 'onCartridgeLoad.js'\n",
    "\n",
    "c.load_submodule(jsfilename, primary = True, name = 'cartridge')\n",
    "c.load_diagram(diagram, primary = True, name = 'cartridge', display = True)"
   ]
  },
  {
   "cell_type": "markdown",
   "metadata": {},
   "source": [
    "Now we can interact with the diagram to highlight a neuron and its connected neurons, choose the model implementation for each of the cells by right clicking on it, single click to slience/rescue the neuron. For example, right clicking on R1 in the NeuroGFX window and choose PhotoreceptorModel as its model."
   ]
  },
  {
   "cell_type": "markdown",
   "metadata": {},
   "source": [
    "The same model can be populated to other photoreceptors R2-R6 by"
   ]
  },
  {
   "cell_type": "code",
   "execution_count": null,
   "metadata": {},
   "outputs": [
    {
     "name": "stdout",
     "output_type": "stream",
     "text": [
      "sending circuit configuration to GFX\n"
     ]
    }
   ],
   "source": [
    "c.update_model_like(['R{}'.format(i) for i in range(2,7)], 'R1')"
   ]
  },
  {
   "cell_type": "markdown",
   "metadata": {},
   "source": [
    "repeat this for other neurons but use the MorrisLecarNonSpiking model"
   ]
  },
  {
   "cell_type": "code",
   "execution_count": null,
   "metadata": {},
   "outputs": [
    {
     "name": "stdout",
     "output_type": "stream",
     "text": [
      "sending circuit configuration to GFX\n",
      "sending circuit configuration to GFX\n"
     ]
    }
   ],
   "source": [
    "c.update_model('L2', {'V1': -20.0,\n",
    "                      'V2': 50.0,\n",
    "                      'V3': -40.0,\n",
    "                      'V4': 20.0,\n",
    "                      'phi': 0.1,\n",
    "                      'offset': 0.0,\n",
    "                      'V_L': -40.,\n",
    "                      'V_Ca': 80.0,\n",
    "                      'V_K': -80.0,\n",
    "                      'g_L': 15.0,\n",
    "                      'g_Ca': 2.0,\n",
    "                      'g_K': 10.,\n",
    "                      'name': 'MorrisLecar'},\n",
    "                states = {'V': -46.08, 'n': 0.3525})\n",
    "\n",
    "c.update_model_like(['L1', 'L3', 'L4', 'L5', 'T1', \n",
    "                     'C2', 'C3', 'a1', 'a2', 'a3',\n",
    "                     'a4', 'a5', 'a6'],\n",
    "                    'L2')"
   ]
  },
  {
   "cell_type": "markdown",
   "metadata": {},
   "source": [
    "Now we get all the synapses in the circuit"
   ]
  },
  {
   "cell_type": "code",
   "execution_count": null,
   "metadata": {},
   "outputs": [
    {
     "name": "stdout",
     "output_type": "stream",
     "text": [
      "sending circuit configuration to GFX\n"
     ]
    }
   ],
   "source": [
    "update_models = {}\n",
    "for rid, v in c.get('Synapse').items():\n",
    "    update_models[v['uname']] = {\n",
    "        'params': {'name': 'SigmoidSynapse',\n",
    "                    'reverse': -80.0 if \\\n",
    "                               v['uname'].split('--')[0][0] == 'R'\\\n",
    "                               else 0,\n",
    "                   'threshold': -50.5,\n",
    "                    'slope': 0.05,\n",
    "                    'gmax': 0.04,\n",
    "                    'scale': c.graph.nodes[rid]['N']\n",
    "                   },\n",
    "         'states': {'g': 0.0}}\n",
    "c.update_models(update_models)\n"
   ]
  },
  {
   "cell_type": "markdown",
   "metadata": {},
   "source": [
    "Write the created model to database with name cartridge and version 1.0."
   ]
  },
  {
   "cell_type": "code",
   "execution_count": null,
   "metadata": {},
   "outputs": [],
   "source": [
    "c.flush_model()"
   ]
  },
  {
   "cell_type": "markdown",
   "metadata": {},
   "source": [
    "## Execution of the model circuit on Neurokernel Execution Engine."
   ]
  },
  {
   "cell_type": "code",
   "execution_count": null,
   "metadata": {},
   "outputs": [],
   "source": [
    "res = c.remove_components()"
   ]
  },
  {
   "cell_type": "markdown",
   "metadata": {},
   "source": [
    "Define the duration and time step of simulation"
   ]
  },
  {
   "cell_type": "code",
   "execution_count": null,
   "metadata": {},
   "outputs": [],
   "source": [
    "dur = 2.0\n",
    "dt = 1e-4\n",
    "steps = int(dur/dt)"
   ]
  },
  {
   "cell_type": "markdown",
   "metadata": {},
   "source": [
    "Define input to the circuit. Here we prsent a Step input from time\n",
    "0.5s to 1.5s at the brightness level equivalent to 10,000 photons per second, to the 6 photoreceptors. We also specify if you want to return the sensory inputs to the neurons."
   ]
  },
  {
   "cell_type": "code",
   "execution_count": null,
   "metadata": {},
   "outputs": [],
   "source": [
    "input_processors = {'LAM(L)': \n",
    "      [{'class': 'StepInputProcessor',\n",
    "        'name': 'LAM(L)',\n",
    "        'module': 'neurokernel.LPU.InputProcessors.StepInputProcessor',\n",
    "        'variable': 'photon',\n",
    "        'uids': [c.find_model(c.uname_to_rid['R{}'.format(i)]).popitem()[0] for i in range(1,7)],\n",
    "        'val': 1e4,\n",
    "        'start': 0.5,\n",
    "        'stop': 1.5,\n",
    "        'input_file': 'LAM_input.h5',\n",
    "        'input_interval': 10}\n",
    "       ]}"
   ]
  },
  {
   "cell_type": "markdown",
   "metadata": {},
   "source": [
    "Choose to record response of the circuit with the \"Record\" class and specify the variables and components to record."
   ]
  },
  {
   "cell_type": "code",
   "execution_count": null,
   "metadata": {},
   "outputs": [],
   "source": [
    "output_processors = {'LAM(L)':\n",
    "      [{'class': 'Record',\n",
    "        'uid_dict': {'V': {'uids': None}},\n",
    "        'sample_interval': 10}\n",
    "       ]}"
   ]
  },
  {
   "cell_type": "markdown",
   "metadata": {},
   "source": [
    "Run the model. Several things take place under the hood. First, the executable circuit is written to the database. Second, the disabled neurons will be processed and removed from the circuit. Third, the circuit will run under the input_processor and return back the result."
   ]
  },
  {
   "cell_type": "code",
   "execution_count": null,
   "metadata": {},
   "outputs": [
    {
     "name": "stdout",
     "output_type": "stream",
     "text": [
      "[FBL NK 2022-11-14 14:22:41,024] Execution request sent. Please wait.\n",
      "[FBL NK 2022-11-14 14:22:41,025] Job received. Currently queued #1\n",
      "[FBL GFX 2022-11-14 14:23:00,919] Receiving Execution Result for cartridge/1.0.  Please wait .....\n",
      "[FBL GFX 2022-11-14 14:23:01,026] Received Execution Result for cartridge/1.0. Result stored in Client.exec_result['cartridge/1.0']\n"
     ]
    }
   ],
   "source": [
    "c.execute(input_processors = input_processors,\n",
    "          output_processors = output_processors,\n",
    "          steps = steps, dt = dt)"
   ]
  },
  {
   "cell_type": "markdown",
   "metadata": {},
   "source": [
    "After waiting till the message suggesting the response is ready, the result will be reorganized to be refereed to using names of the neurons/synapses."
   ]
  },
  {
   "cell_type": "code",
   "execution_count": null,
   "metadata": {},
   "outputs": [],
   "source": [
    "result = c.get_result('cartridge/1.0')"
   ]
  },
  {
   "cell_type": "markdown",
   "metadata": {},
   "source": [
    "Plot responses."
   ]
  },
  {
   "cell_type": "code",
   "execution_count": null,
   "metadata": {},
   "outputs": [
    {
     "data": {
      "image/png": "[encoded data removed]",
      "text/plain": [
       "<Figure size 1584x720 with 1 Axes>"
      ]
     },
     "metadata": {
      "needs_background": "light"
     },
     "output_type": "display_data"
    },
    {
     "data": {
      "image/png": "[encoded data removed]",
      "text/plain": [
       "<Figure size 1584x720 with 1 Axes>"
      ]
     },
     "metadata": {
      "needs_background": "light"
     },
     "output_type": "display_data"
    }
   ],
   "source": [
    "client.plotExecResult('cartridge/1.0', outputs = ['R1', 'L1'])"
   ]
  },
  {
   "cell_type": "markdown",
   "metadata": {},
   "source": [
    "## Retrieving Executable Circuit from Database for Execution"
   ]
  },
  {
   "cell_type": "markdown",
   "metadata": {},
   "source": [
    "Now let's clear the workspace and fire the same NLP query as before."
   ]
  },
  {
   "cell_type": "code",
   "execution_count": null,
   "metadata": {},
   "outputs": [
    {
     "name": "stdout",
     "output_type": "stream",
     "text": [
      "[FBL NLP 2022-11-14 14:23:46,049] NLP successfully parsed query.\n"
     ]
    }
   ],
   "source": [
    "res1 = client.executeNLPquery('show all')"
   ]
  },
  {
   "cell_type": "markdown",
   "metadata": {},
   "source": [
    "This time we can retrieve the executable circuit from the database that we just wrote, using the same methods as before"
   ]
  },
  {
   "cell_type": "code",
   "execution_count": null,
   "metadata": {},
   "outputs": [
    {
     "name": "stdout",
     "output_type": "stream",
     "text": [
      "Please select from the exisiting models to initialize the executable circuit, or press a to abort\n",
      "0: cartridge version 1.0 (rid #506:0) 0\n"
     ]
    },
    {
     "name": "stdout",
     "output_type": "stream",
     "text": [
      "#506:0\n",
      "sending circuit configuration to GFX\n"
     ]
    }
   ],
   "source": [
    "c = circuit.ExecutableCircuit(client, res1)"
   ]
  },
  {
   "cell_type": "markdown",
   "metadata": {},
   "source": [
    "We wree asked to choose from a list of executable circuits that models the circuit displayed in the NeuronLP window. Here only one such model exists, which is the one we created before."
   ]
  },
  {
   "cell_type": "markdown",
   "metadata": {},
   "source": [
    "This time we disable R2-R6, a1-a6, L3 and T1 neurons on the circuit diagram. Equivalently, we can issue the following command:"
   ]
  },
  {
   "cell_type": "code",
   "execution_count": null,
   "metadata": {},
   "outputs": [
    {
     "name": "stdout",
     "output_type": "stream",
     "text": [
      "sending circuit configuration to GFX\n"
     ]
    }
   ],
   "source": [
    "c.disable_neurons(['R{}'.format(i) for i in range(2, 7)] + \\\n",
    "                  ['a{}'.format(i) for i in range(1, 7)] + \\\n",
    "                  ['L3', 'T1'])"
   ]
  },
  {
   "cell_type": "markdown",
   "metadata": {},
   "source": [
    "and then reflect this change in the database before executng it."
   ]
  },
  {
   "cell_type": "code",
   "execution_count": null,
   "metadata": {},
   "outputs": [],
   "source": [
    "res = c.remove_components()"
   ]
  },
  {
   "cell_type": "code",
   "execution_count": null,
   "metadata": {},
   "outputs": [],
   "source": [
    "dur = 2.0\n",
    "dt = 1e-4\n",
    "steps = int(dur/dt)\n",
    "\n",
    "input_processors = {'LAM(L)': \n",
    "     [{'class': 'StepInputProcessor',\n",
    "       'name': 'LAM(L)',\n",
    "       'module': 'neurokernel.LPU.InputProcessors.StepInputProcessor',\n",
    "       'variable': 'photon',\n",
    "       'uids': [c.find_model(c.uname_to_rid['R1']).popitem()[0]],\n",
    "       'val': 1e4,\n",
    "       'start': 0.5,\n",
    "       'stop': 1.5,\n",
    "       'input_file': 'LAM_input.h5',\n",
    "       'input_interval': 10}\n",
    "     ]}\n",
    "output_processors = {'LAM(L)':\n",
    "      [{'class': 'Record',\n",
    "        'uid_dict': {'V': {'uids': None}},\n",
    "        'sample_interval': 10}\n",
    "     ]}"
   ]
  },
  {
   "cell_type": "code",
   "execution_count": null,
   "metadata": {},
   "outputs": [
    {
     "name": "stdout",
     "output_type": "stream",
     "text": [
      "[FBL NK 2022-11-14 14:24:08,204] Execution request sent. Please wait.\n",
      "[FBL NK 2022-11-14 14:24:08,205] Job received. Currently queued #1\n",
      "[FBL GFX 2022-11-14 14:24:22,987] Receiving Execution Result for cartridge/1.0.  Please wait .....\n",
      "[FBL GFX 2022-11-14 14:24:23,014] Received Execution Result for cartridge/1.0. Result stored in Client.exec_result['cartridge/1.0']\n"
     ]
    }
   ],
   "source": [
    "c.execute(input_processors = input_processors,\n",
    "      output_processors = output_processors,\n",
    "      steps = steps, dt = dt)"
   ]
  },
  {
   "cell_type": "code",
   "execution_count": null,
   "metadata": {},
   "outputs": [],
   "source": [
    "result = c.get_result('cartridge/1.0')"
   ]
  },
  {
   "cell_type": "markdown",
   "metadata": {},
   "source": [
    "Finally, we plot the input to R1 and the responses of R1 and L1, where L1 only receives input from 1 photoreceptor as compared to 6 in the previous execution."
   ]
  },
  {
   "cell_type": "code",
   "execution_count": null,
   "metadata": {},
   "outputs": [
    {
     "data": {
      "image/png": "[encoded data removed]",
      "text/plain": [
       "<Figure size 1584x720 with 1 Axes>"
      ]
     },
     "metadata": {
      "needs_background": "light"
     },
     "output_type": "display_data"
    },
    {
     "data": {
      "image/png": "[encoded data removed]",
      "text/plain": [
       "<Figure size 1584x720 with 1 Axes>"
      ]
     },
     "metadata": {
      "needs_background": "light"
     },
     "output_type": "display_data"
    }
   ],
   "source": [
    "client.plotExecResult('cartridge/1.0', outputs = ['R1', 'L1'])"
   ]
  },
  {
   "cell_type": "code",
   "execution_count": null,
   "metadata": {},
   "outputs": [],
   "source": []
  }
 ],
 "metadata": {
  "kernelspec": {
   "display_name": "Python 3.8.10 64-bit",
   "language": "python",
   "name": "python3"
  },
  "language_info": {
   "codemirror_mode": {
    "name": "ipython",
    "version": 3
   },
   "file_extension": ".py",
   "mimetype": "text/x-python",
   "name": "python",
   "nbconvert_exporter": "python",
   "pygments_lexer": "ipython3",
   "version": "3.8.10"
  },
  "vscode": {
   "interpreter": {
    "hash": "916dbcbb3f70747c44a77c7bcd40155683ae19c65e1c03b4aa3499c5328201f1"
   }
  }
 },
 "nbformat": 4,
 "nbformat_minor": 4
}
