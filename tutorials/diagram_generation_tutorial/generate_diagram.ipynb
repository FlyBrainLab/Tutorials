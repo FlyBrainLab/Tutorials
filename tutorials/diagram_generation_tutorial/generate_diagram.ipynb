{
 "cells": [
  {
   "cell_type": "markdown",
   "metadata": {},
   "source": [
    "# Generating Diagrams with FlyBrainLab\n",
    "\n",
    "In this short tutorial, we show an example of automatic diagram generation for a small circuit using FlyBrainLab. The code shown in this tutorial is intended to be a starting point for diagram design.\n",
    "\n",
    "**Important:** Before starting to run the code below, **(i)** create an FBL workspace for Hemibrain, **(ii)** change the kernel for this notebook to the kernel you just created.\n",
    "\n",
    "\n",
    "Let us start by querying the neurons for which we will be constructing the diagram:"
   ]
  },
  {
   "cell_type": "code",
   "execution_count": 4,
   "metadata": {},
   "outputs": [
    {
     "name": "stdout",
     "output_type": "stream",
     "text": [
      "[FFBOLab Client NLP 2020-09-08 00:54:49] NLP successfully parsed query.\n",
      "[FFBOLab Client NLP 2020-09-08 00:54:50] Received a message.\n",
      "[FFBOLab Client NLP 2020-09-08 00:54:50] Received a command.\n",
      "[FFBOLab Client NLP 2020-09-08 00:54:52] Received data.\n",
      "[FFBOLab Client NLP 2020-09-08 00:54:54] Received a message.\n",
      "[FFBOLab Client NLP 2020-09-08 00:54:54] Received data.\n",
      "[]\n"
     ]
    }
   ],
   "source": [
    "%matplotlib inline\n",
    "my_client = fbl.get_client()\n",
    "data = my_client.executeNLPquery('show $ExR1$')"
   ]
  },
  {
   "cell_type": "markdown",
   "metadata": {},
   "source": [
    "We can now try to get information on the neuron we retrieve:"
   ]
  },
  {
   "cell_type": "code",
   "execution_count": 5,
   "metadata": {},
   "outputs": [
    {
     "name": "stdout",
     "output_type": "stream",
     "text": [
      "[FFBOLab Client NLP 2020-09-08 00:54:58] Received a message.\n",
      "[FFBOLab Client NLP 2020-09-08 00:54:58] Received data.\n"
     ]
    },
    {
     "name": "stderr",
     "output_type": "stream",
     "text": []
    }
   ],
   "source": [
    "my_client.autoLayout() # Run the default layouting algorithm\n",
    "# And then load the generated file:\n",
    "with open('G_auto.svg', 'r') as file:\n",
    "    data = file.read()"
   ]
  },
  {
   "cell_type": "markdown",
   "metadata": {},
   "source": [
    "At this stage you can get some warnings. Do not worry about them; you will create your own function based on autoLayout to improve the visuals of the default diagram. You can modify autoLayout function in the fbl.Client class to generate different looking of diagrams.\n",
    "\n",
    "The code below updates widget managers in the frontend, loads the diagram we just generated, and adds interactivity to it:"
   ]
  },
  {
   "cell_type": "code",
   "execution_count": 6,
   "metadata": {},
   "outputs": [],
   "source": [
    "# Update widgets and widget managers throughout the frontend (included for compatibility)\n",
    "for i in fbl.widget_manager.widgets:\n",
    "    if fbl.widget_manager.widgets[i].widget_id not in fbl.client_manager.clients[fbl.widget_manager.widgets[i].client_id]['widgets']:\n",
    "        fbl.client_manager.clients[fbl.widget_manager.widgets[i].client_id]['widgets'].append(fbl.widget_manager.widgets[i].widget_id)\n",
    "\n",
    "# Load the diagram\n",
    "my_client.tryComms({'widget':'GFX', \n",
    "                    'messageType': 'loadCircuitFromString', \n",
    "                    'data': {'string':data, 'name':'custom'}})\n",
    "\n",
    "# Run the submodule called onGraphVizLoad2 to make the diagram interactive\n",
    "my_client.tryComms({'widget':'GFX', \n",
    "                    'messageType': 'eval', \n",
    "                    'data': {'data':\"window.fbl.loadSubmodule('data/FBLSubmodules/onGraphVizLoad2.js');\", 'name':'custom'}})"
   ]
  },
  {
   "cell_type": "markdown",
   "metadata": {},
   "source": [
    "Voila! You should see a rather basic-looking circuit diagram. This is a starting point for developing your own FBL scripts that automatically load a diagram.\n",
    "\n",
    "## Appendix:\n",
    "\n",
    "Here, we give some pointers to get started on diagram interactivity. \n",
    "\n",
    "You can start by taking a look at the https://github.com/FlyBrainLab/NeuGFX package for looking at how circuit diagrams are handled; specifically, check https://github.com/FlyBrainLab/NeuGFX/tree/master/data/FBLSubmodules to see the kinds of diagram interactivity-giving scripts currently available to choose from. You can write and load custom scripts by writing Javascript files instead of using the default scripts by using the 'eval' messageType presented above. For example, you can send the entire content of a .js script."
   ]
  }
 ],
 "metadata": {
  "kernelspec": {
   "display_name": "Python 3",
   "language": "python",
   "name": "python3"
  },
  "language_info": {
   "codemirror_mode": {
    "name": "ipython",
    "version": 3
   },
   "file_extension": ".py",
   "mimetype": "text/x-python",
   "name": "python",
   "nbconvert_exporter": "python",
   "pygments_lexer": "ipython3",
   "version": "3.7.8"
  }
 },
 "nbformat": 4,
 "nbformat_minor": 4
}
