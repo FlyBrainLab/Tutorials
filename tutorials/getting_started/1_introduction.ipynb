{
 "cells": [
  {
   "cell_type": "markdown",
   "metadata": {},
   "source": [
    "# Introduction to FBL: Part 1: Introduction\n",
    "\n",
    "This example demonstrates the workflow for FBL scripts.\n",
    "FBL uses Python to interface with an FFBO backend.\n",
    "By default, each FBL kernel connects to the backend specified by the choice that appears after you press the 'Create FBL Workspace' button.\n",
    "\n",
    "You can get the client as follows:"
   ]
  },
  {
   "cell_type": "code",
   "execution_count": 4,
   "metadata": {},
   "outputs": [],
   "source": [
    "my_client = fbl.get_client()"
   ]
  },
  {
   "cell_type": "markdown",
   "metadata": {},
   "source": [
    "fbl is the shorthand for the FBLClient library, which is imported by running 'import flybrainlab as fbl' in FBL-enabled kernels.\n",
    "\n",
    "If you want to, you can execute a natural language query with the retrieved client:"
   ]
  },
  {
   "cell_type": "code",
   "execution_count": 5,
   "metadata": {},
   "outputs": [
    {
     "name": "stdout",
     "output_type": "stream",
     "text": [
      "[FFBOLab Client NLP 2020-08-05 00:11:23] NLP successfully parsed query.\n",
      "[FFBOLab Client NLP 2020-08-05 00:11:23] Received a message.\n",
      "[FFBOLab Client NLP 2020-08-05 00:11:23] Received a command.\n",
      "[FFBOLab Client NLP 2020-08-05 00:11:23] Received data.\n",
      "[FFBOLab Client NLP 2020-08-05 00:11:23] Received data.\n",
      "[FFBOLab Client NLP 2020-08-05 00:11:24] Received data.\n",
      "[FFBOLab Client NLP 2020-08-05 00:11:24] Received data.\n",
      "[FFBOLab Client NLP 2020-08-05 00:11:24] Received a message.\n",
      "[FFBOLab Client NLP 2020-08-05 00:11:24] Received data.\n",
      "['EB']\n"
     ]
    }
   ],
   "source": [
    "res = my_client.executeNLPquery('show neurons in the ellipsoid body')"
   ]
  },
  {
   "cell_type": "markdown",
   "metadata": {},
   "source": [
    "Auto-completion in JupyterLab will be helpful for finding other functions you can run with the client object.\n",
    "\n",
    "\n",
    "Sometimes you may need or want to import FBL directly:"
   ]
  },
  {
   "cell_type": "code",
   "execution_count": 4,
   "metadata": {},
   "outputs": [],
   "source": [
    "import flybrainlab as fbl"
   ]
  },
  {
   "cell_type": "markdown",
   "metadata": {},
   "source": [
    "And create a new client:"
   ]
  },
  {
   "cell_type": "code",
   "execution_count": 5,
   "metadata": {},
   "outputs": [
    {
     "name": "stdout",
     "output_type": "stream",
     "text": [
      "[FFBOLab Client 2019-02-01 20:28:50] Downloading the latest certificates.\n",
      "PER MESSAGE COMPRESS PerMessageDeflate(is_server = False, server_no_context_takeover = False, client_no_context_takeover = False, server_max_window_bits = 15, client_max_window_bits = 11, mem_level = 8)\n",
      "[FFBOLab Client 2019-02-01 20:28:50] Initiating authentication.\n",
      "[FFBOLab Client 2019-02-01 20:28:50] WAMP-CRA challenge received: Challenge(method=wampcra, extra={'keylen': 32, 'challenge': '{\"nonce\": \"HaCGWNIUl61snu1Aa7nJ90vc4B0N7w5Q0ac6Z/Upm51kyvBK06nGHCAgDdQcMdbA\", \"authprovider\": \"dynamic\", \"authid\": \"Guest  \", \"timestamp\": \"2019-02-01T20:28:49.268Z\", \"authrole\": \"user\", \"authmethod\": \"wampcra\", \"session\": 6011198041324852}', 'salt': 'drosophila', 'iterations': 5000})\n",
      "drosophila\n",
      "[FFBOLab Client 2019-02-01 20:28:50] Deriving key...\n",
      "4IGF+fuHJ9KJeikzFaEO+toDSmog/rJELkki6V2vWtc=\n",
      "Subscribed to topic 'ffbo.server.update'\n",
      "[FFBOLab Client 2019-02-01 20:28:51] Procedure ffbo.ui.receive_cmd Registered...\n",
      "[FFBOLab Client 2019-02-01 20:28:51] Procedure ffbo.ui.receive_gfx Registered...\n",
      "Procedure ffbo.ui.get_circuit Registered...\n",
      "Procedure ffbo.ui.get_experiment Registered...\n",
      "[FFBOLab Client 2019-02-01 20:28:51] Procedure ffbo.ui.receive_data Registered...\n",
      "[FFBOLab Client 2019-02-01 20:28:51] Procedure ffbo.ui.receive_partial Registered...\n",
      "[FFBOLab Client 2019-02-01 20:28:51] Procedure ffbo.gfx.receive_partial Registered...\n",
      "[FFBOLab Client 2019-02-01 20:28:51] Procedure ffbo.ui.receive_msg Registered...\n",
      "[FFBOLab Client 2019-02-01 20:28:51] Found working NA Server: na_server_with_vfb_links\n"
     ]
    }
   ],
   "source": [
    "my_client = fbl.Client()"
   ]
  },
  {
   "cell_type": "markdown",
   "metadata": {},
   "source": [
    "You can access the client manager object, which holds information about clients associated with the frontend:"
   ]
  },
  {
   "cell_type": "code",
   "execution_count": 7,
   "metadata": {},
   "outputs": [
    {
     "data": {
      "text/plain": [
       "{'client-Neu3D-1-51120700-2e92-40ec-812e-723f4ce79edc': {'client': <flybrainlab.Client.Client at 0x25c3ff51448>,\n",
       "  'widgets': ['Neu3D-1-51120700-2e92-40ec-812e-723f4ce79edc']}}"
      ]
     },
     "execution_count": 7,
     "metadata": {},
     "output_type": "execute_result"
    }
   ],
   "source": [
    "fbl.client_manager.clients"
   ]
  },
  {
   "cell_type": "markdown",
   "metadata": {},
   "source": [
    "Similarly, there exists a widget manager, which holds information about clients associated with individual frontend components:"
   ]
  },
  {
   "cell_type": "code",
   "execution_count": 9,
   "metadata": {},
   "outputs": [
    {
     "data": {
      "text/plain": [
       "OrderedDict([('Neu3D-1-51120700-2e92-40ec-812e-723f4ce79edc',\n",
       "              Widget(widget_type='Neu3DWidget', widget_id='Neu3D-1-51120700-2e92-40ec-812e-723f4ce79edc', client_id='client-Neu3D-1-51120700-2e92-40ec-812e-723f4ce79edc', model=None, comm=<ipykernel.comm.comm.Comm object at 0x0000025C39A22148>, msg_data=None, isDisposed=False, commOpen=True)),\n",
       "             ('NeuGFX-1-cb93acd1-d019-4b84-bde6-257a1473992f',\n",
       "              Widget(widget_type='NeuGFXWidget', widget_id='NeuGFX-1-cb93acd1-d019-4b84-bde6-257a1473992f', client_id='client-Neu3D-1-51120700-2e92-40ec-812e-723f4ce79edc', model=None, comm=<ipykernel.comm.comm.Comm object at 0x0000025C3FF59388>, msg_data=None, isDisposed=False, commOpen=True))])"
      ]
     },
     "execution_count": 9,
     "metadata": {},
     "output_type": "execute_result"
    }
   ],
   "source": [
    "fbl.widget_manager.widgets # An ordered dict showing widget names and connected client ids"
   ]
  }
 ],
 "metadata": {
  "kernelspec": {
   "display_name": "Python 3",
   "language": "python",
   "name": "python3"
  },
  "language_info": {
   "codemirror_mode": {
    "name": "ipython",
    "version": 3
   },
   "file_extension": ".py",
   "mimetype": "text/x-python",
   "name": "python",
   "nbconvert_exporter": "python",
   "pygments_lexer": "ipython3",
   "version": "3.7.8"
  }
 },
 "nbformat": 4,
 "nbformat_minor": 4
}
