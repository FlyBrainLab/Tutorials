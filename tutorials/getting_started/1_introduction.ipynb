{
 "cells": [
  {
   "cell_type": "markdown",
   "metadata": {},
   "source": [
    "# Introduction to FBL: Part 1: Fundamentals of the Platform\n",
    "\n",
    "In this tutorial series, you will be introduced to the fundamentals of using FlyBrainLab (FBL) as a platform for exploration of and research on *Drosophila* neural circuits.\n",
    "\n",
    "\n",
    "### Overview\n",
    "\n",
    "In this *introductory* tutorial series, we will cover several capabilities of FlyBrainLab. Namely, we will look at, in order,\n",
    "* **1.** Fundamentals of the Platform and Workspace Creation (This file),\n",
    "* **1.(b)** Querying *Drosophila* Databases [(1b_nlp_queries.ipynb)](https://github.com/FlyBrainLab/Tutorials/blob/master/tutorials/getting_started/1b_nlp_queries.ipynb),\n",
    "* **1.(c)** Operating with query results [(1c_query_results.ipynb)](1c_query_result.ipynb),\n",
    "* **2.** Creating Scripts and Accessing the FlyBrainLab Client [(2_scripts.ipynb)](https://github.com/FlyBrainLab/Tutorials/blob/master/tutorials/getting_started/2_scripts.ipynb),\n",
    "* **3.** Retrieving and Visualizing Connectivity for a Queried Circuit [(3_connectivity.ipynb)](https://github.com/FlyBrainLab/Tutorials/blob/master/tutorials/getting_started/3_connectivity.ipynb),\n",
    "* **4.** Accessing Queried Circuits using Python Graph Libraries (NetworkX) [(4_networkx.ipynb)](https://github.com/FlyBrainLab/Tutorials/blob/master/tutorials/getting_started/4_networkx.ipynb),\n",
    "* **5.** Saving and Retrieving Explored Circuits [(5_exploration.ipynb)](https://github.com/FlyBrainLab/Tutorials/blob/master/tutorials/getting_started/5_exploration.ipynb).\n",
    "\n",
    "In the rest of our of tutorials (*intermediate* level) which can be accessed in any order, we cover topics such as\n",
    "* Diagram Generation from Explored Circuits [(generate_diagram.ipynb)](https://github.com/FlyBrainLab/Tutorials/blob/master/tutorials/diagram_generation_tutorial/generate_diagram.ipynb),\n",
    "* Retrieving Neuron Information [(neuron_information.ipynb)](https://github.com/FlyBrainLab/Tutorials/blob/master/tutorials/neuron_information_tutorial/neuron_information.ipynb),\n",
    "* Loading Local Data to the Workspace [(swc_loading.ipynb)](https://github.com/FlyBrainLab/Tutorials/blob/master/tutorials/swc_loading_tutorial/swc_loading.ipynb),\n",
    "* Olfactory Sensory Neurons: Electrophysiology and Morphology [(OSN_ephys_tutorial.ipynb)](https://github.com/FlyBrainLab/Tutorials/blob/master/tutorials/osn_ephys_tutorial/OSN_ephys_tutorial.ipynb).\n",
    "\n",
    "Over time, more tutorials may become available; check the list at our [Tutorials](https://github.com/FlyBrainLab/Tutorials) page for up-to-date information. For more information on the platform, we recommend taking a look at our Wiki and specifically the Resources section at https://github.com/FlyBrainLab/FlyBrainLab/wiki/FlyBrainLab-Resources.\n",
    "\n",
    "### Creating a Workspace\n",
    "\n",
    "Let us start by creating a FlyBrainLab workspace. You will first want to open this notebook from JupyterLab. Now, you want to go to your **Launcher** panel on top and press the **Create FBL Workspace** button there. You will be asked to select a specific dataset for your workspace. You can use Hemibrain for this spoecific tutorial, but the rest of this series will use FlyCircuit.\n",
    "\n",
    "\n",
    "Look at the image below to see how that should look like. If you do not see the FlyBrainLab panel, that means there was an installation error. Go back to the installation guide at https://github.com/FlyBrainLab/FlyBrainLab for installation instructions and troubleshooting. In addition, note that the FlyBrainLab Wiki, located at https://github.com/FlyBrainLab/FlyBrainLab/wiki, contains a large number of resources in addition to what this series will cover."
   ]
  },
  {
   "cell_type": "markdown",
   "metadata": {},
   "source": [
    "![](https://github.com/FlyBrainLab/Tutorials/raw/master/tutorials/osn_ephys_tutorial/images/osn_1.png \"Title\")"
   ]
  },
  {
   "cell_type": "markdown",
   "metadata": {},
   "source": [
    "clicking this will create a number of tabs, one of which is a notebook. Look at the screenshot below for an example of what your screen should look like.\n",
    "\n",
    "### Connecting Notebooks to Workspaces\n",
    "\n",
    "The next thing that you will need to do for the tutorials to work is to connect the tutorial notebooks to workspaces that you create. To do so, go back to the tutorial notebook, click on the **Python 3** text on the top right, and select the kernel whose name corresponds to the name of your workspace. By default, this will be \"Untitled.ipynb\" or something similar, and will correspond to the name of the tabs that are generated. You can rename the notebook of the workspace by right clicking the name of the notebook and pressing **Rename Notebook...**."
   ]
  },
  {
   "cell_type": "markdown",
   "metadata": {},
   "source": [
    "![](https://github.com/FlyBrainLab/Tutorials/raw/master/tutorials/osn_ephys_tutorial/images/osn_2.png \"Title\")"
   ]
  },
  {
   "cell_type": "markdown",
   "metadata": {},
   "source": [
    "### Using NeuroNLP Window for Queries\n",
    "\n",
    "You can use the NeuroNLP window to query neural data. Use the search bar, highlighted below, to write queries and then press ENTER to run the query. The results will be retrieved from the server and visualized in your interface."
   ]
  },
  {
   "cell_type": "markdown",
   "metadata": {},
   "source": [
    "![](https://github.com/FlyBrainLab/Tutorials/raw/master/tutorials/getting_started/images/neuronlp_bar.png \"Title\")"
   ]
  },
  {
   "cell_type": "markdown",
   "metadata": {},
   "source": [
    "To gain more experience with the types of queries you can execute using the search bar, please start with NeuroNLP FlyCircuit at https://neuronlp.fruitflybrain.org/, with NeuroNLP Hemibrain at https://hemibrain.neuronlp.fruitflybrain.org/, or NeuroNLP Larva at https://larva.neuronlp.fruitflybrain.org/. FlyCircuit and Hemibrain versions come with demos that show what is possible using the platform. The NLP queries allow you to add, keep, remove or show specific cell types to filter out or keep specific neurons to explore a circuit you are interested in."
   ]
  },
  {
   "cell_type": "markdown",
   "metadata": {},
   "source": [
    "### Using InfoPanel\n",
    "To access more information about a neuron to explore and to potentially bring in their partners to the workspace, you can click a neuron in the NeuroNLP Window (the window showing the neuron morphology). You will see the InfoPanel get populated with information on the neuron. To open InfoPanel, you will need to press the InfoPanel icon the left corner of the screen, as highlighted below."
   ]
  },
  {
   "cell_type": "markdown",
   "metadata": {},
   "source": [
    "![](https://github.com/FlyBrainLab/Tutorials/raw/master/tutorials/getting_started/images/infopanel_example.png \"Title\")"
   ]
  }
 ],
 "metadata": {
  "kernelspec": {
   "display_name": "Python 3",
   "language": "python",
   "name": "python3"
  },
  "language_info": {
   "codemirror_mode": {
    "name": "ipython",
    "version": 3
   },
   "file_extension": ".py",
   "mimetype": "text/x-python",
   "name": "python",
   "nbconvert_exporter": "python",
   "pygments_lexer": "ipython3",
   "version": "3.7.9"
  }
 },
 "nbformat": 4,
 "nbformat_minor": 4
}
