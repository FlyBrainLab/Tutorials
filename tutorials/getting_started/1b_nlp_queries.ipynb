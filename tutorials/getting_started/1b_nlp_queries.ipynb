{
 "cells": [
  {
   "cell_type": "markdown",
   "metadata": {},
   "source": [
    "# Introduction to FBL: Part 1(b): Using Natural Language Queries to Explore Datasets\n",
    "This example demonstrates how to use NLP queries. We will start with the FlyCircuit dataset, and then show some capabilities for the Hemibrain dataset. We will be using the `executeNLPquery` method available to make our queries. Equivalently, the query can be passed to the query bar located at the bottom of the NeuroNLP window.\n"
   ]
  },
  {
   "cell_type": "markdown",
   "metadata": {},
   "source": [
    "## Query Rules\n",
    "Let us now explain the rules for constructing these queries. Here is an easy way to construct your NLP queries. Your queries should start with a verb; the verbs supported right now are \n",
    "* **show**: clear workspace and then show the queried neurons,\n",
    "* **add**: add to the workspace the neurons queried,\n",
    "* **remove**: remove from the workspace the queried neuron,\n",
    "* **keep**: keep in the workspace only the neurons that meet the criterion of the query,\n",
    "* **hide**: hide the neurons that meet the criterion of the query (this does not remove them from workspace, but reduce their visibility),\n",
    "* **pin**: pin the neurons that meet the criterion of the query. Pinned neurons are automatically highlighted, and cannot be removed by the \"trash can\" button on top of the NeuroNLP window.\n",
    "* **unpin**: unpin the neurons that meet the criterion of the query,\n",
    "* **color**: color the neurons that meet the criterion of the query with a user defined color (can be hex color code, e.g., FF0000 for red), or [these predefined colors](https://github.com/fruitflybrain/ffbo.neuroarch_nlp/blob/master/neuroarch_nlp/data/defaults.py#L2).\n",
    "* **clear**: clear up the workspace, removing all neurons and synapses."
   ]
  },
  {
   "cell_type": "markdown",
   "metadata": {},
   "source": [
    "Next, we explain the rules for defining the criterion of the query, using the verb *show* as an example. The queries will be based on the Hemibrain dataset.\n",
    "* **show *cell-type* neurons**: Shows the neurons of the cell type. Example: \n",
    " - `show PEG neurons`, or simply `show peg`.\n",
    "* **show *\\\\$string\\\\$* neurons**: Shows neurons with a name that contains the string. Example:\n",
    " - `show $PEG$ neurons`, or simply `show $PEG$`, will query any neuron whose name contain the string \\*PEG\\*.\n",
    "* **show */rstring/r* neurons**: Show neurons whose name matches the regular expressing `string` (This requires some knowledge of how the neurons are named in each dataset). Example:\n",
    " - `show /r(.*)PEG(.*)R1(.*)/r neurons`, or simply `show /r(.*)PEG(.*)R1(.*)/r` will show the PEG neurons that innervate PB glomerulus R1.\n",
    "* **show neurons in|that innervate|that arborize in *neuropil/subregion***: Shows neurons that has output or input in a neuropil or a subregion of a neuropil. Examples: \n",
    " - `show neurons in ellipsoid body`, or using abbreviations `show neurons in EB`,\n",
    " - `show PEG neurons that arborize in PB glomerulus r9`.\n",
    " - `show neurons that innervate right al and right mb`. Note that this is different from `show neurons that innervate right al or right mb`.\n",
    "* **show *local* neurons in *neuropil***: Shows the neurons that has only inputs and outputs within the neuropil (note that due to lack of data in some datasets, some neurons are only traced in one neuropil and thus are classified local neuron by default). Examples:\n",
    " - `show local neurons in ellipsoid body`\n",
    "* **show neurons with|that have inputs|outputs in *neuropil/subregion***: More specific then the previous query on the inputs or outputs. Examples:\n",
    " - `show neurons with inputs in AME`,\n",
    " - `show $R3w$ neurons that have outputs in EB`,\n",
    " - `show neurons with inputs in right antennal lobe and outputs in right lateral horn`, or equivalently `show neurons projecting from right antennal lobe to right lateral horn`.\n",
    " - `show neurons that connect right AL and right MB`. Includes both the neurons that has inputs in AL and outputs in MB, and those has inputs in MB and outputs in AL.\n",
    "* **show neurons *presynaptic|postsynaptic to***: Shows the neurons that are presynaptic or postsynaptic to the neurons defined after the word to. Exmples:\n",
    " - `show neurons presynaptic to TuBu05`,\n",
    " - `show $aMe$ presynaptic to KCs that innervate alpha'1 compartment`,\n",
    " - `show DAN postsynaptic to MBONs with at least 30 synapses`,\n",
    "* **show *presynaptic|postsynaptic* neurons**: Shows the neurons that are presynaptic or postsynaptic to the neurons already in workspace. Examples:\n",
    " - `show presynaptic neurons`\n",
    " - `show postsynaptic neurons with at least 10 synapses`\n",
    " - `show postynaptic MBON that innervate gamma lobe with at least 5 synapses`\n",
    "* **show *neurotransmitter* neurons**: (currently mainly works in FlyCircuit, L1EM and Medulla datasets) Shows the neurons that express the neurotramsitter. Examples:\n",
    " - `show GABAergic neurons in EB`\n",
    " - `show cholinergic presynaptic neurons`\n",
    " - `show glutamatergic local neurons in AL`\n",
    "\n",
    "Other short-hands:\n",
    "* **show */:referenceId:[5813014882, 912147912, 880875861]***: Shows the neurons whose `referenceId` in the original dataset is in the list. It can be used similar to \\\\$ \\\\$ and regular expression and combined with other types of criteria. Examples:\n",
    " - Hemibrain: `show */:referenceId:[5813014882, 912147912, 880875861]`\n",
    " - FlyCircuit: `show */:referenceId:[VGlut-F-000001, Cha-F-100201]`\n",
    "\n",
    "**Coloring**, if no criteria are specified, the color will be applied to the neurons *added* in the most recent query. For example, if you query: `show A neurons`, then `add B neurons`, `color red` will color B neurons red. `color A neurons 0000FF` will then color A neurons blue.\n",
    "\n",
    "Let us execute these example queries one by one:"
   ]
  },
  {
   "cell_type": "markdown",
   "metadata": {},
   "source": [
    "## The Hemibrain Dataset\n",
    "\n",
    "For the examples in this subsection, select \"Hemibrain\" after pressing the \"Create FBL Workspace\" button. Then change the kernel of this notebook (see [this notebook](1_introduction.ipynb) if you are not aware why and how to do it). Execute the following cells one by one (note that you can type in the queries to the query bar at the bottom of the NeuroNLP window to run the same query). We do not explain the returned variable `res` in the following examples. Please see [this notebook](1c_query_results.ipynb) for more information on the returned values of the queries. If you are running NeuroArch server locally and using one of the Hemibrain databases from the [Dataset Repository](https://github.com/FlyBrainLab/datasets), currently the coordinate of the neuropil mesh requires a fix by uncommenting the code on the last three lines.\n"
   ]
  },
  {
   "cell_type": "code",
   "execution_count": null,
   "metadata": {},
   "outputs": [],
   "source": [
    "my_client = fbl.get_client()\n",
    "\n",
    "# my_client.x_scale = 1./8\n",
    "# my_client.y_scale = 1./8\n",
    "# my_client.z_scale = 1./8"
   ]
  },
  {
   "cell_type": "markdown",
   "metadata": {},
   "source": [
    "We use this function to retrieve the client object we generate when we create a workspace. If the code above fails, it is likely that you have not connected this notebook to the workspace you generated by pressing the \"Create FBL Workspace\" button; you go back to the [previous notebook](1_introduction.ipynb) to see how you can connect an existing notebook to a newly created workspace."
   ]
  },
  {
   "cell_type": "markdown",
   "metadata": {},
   "source": [
    "#### Name-based Queries"
   ]
  },
  {
   "cell_type": "markdown",
   "metadata": {},
   "source": [
    "In the Hemibrain dataset, we can typically query by the type of the neurons, such as:"
   ]
  },
  {
   "cell_type": "code",
   "execution_count": null,
   "metadata": {},
   "outputs": [],
   "source": [
    "res = my_client.executeNLPquery('show PEG neurons')"
   ]
  },
  {
   "cell_type": "markdown",
   "metadata": {},
   "source": [
    "For neuron types that span multiple word, try put an underscore between the words, for example, for $\\alpha/\\beta$ lobe KCs:"
   ]
  },
  {
   "cell_type": "code",
   "execution_count": null,
   "metadata": {},
   "outputs": [],
   "source": [
    "res = my_client.executeNLPquery('show alpha_beta_kc')"
   ]
  },
  {
   "cell_type": "markdown",
   "metadata": {},
   "source": [
    "Another quick way to find neurons whose name contains a string is to use the \\\\$\\\\$ syntax. The following query searches for all neurons whose name contains the string 'MBON'."
   ]
  },
  {
   "cell_type": "code",
   "execution_count": null,
   "metadata": {},
   "outputs": [],
   "source": [
    "res = my_client.executeNLPquery('show $MBON$')"
   ]
  },
  {
   "cell_type": "markdown",
   "metadata": {},
   "source": [
    "We can also use a regular expression to filter out the name of the neurons. For example, the following query asks for neurons whose names starts with 'R3w_b' and has an trailing 'R'. In Hemibrain name scheme, it means the R3w_b ring neurons that has its cell body on the right hemisphere. "
   ]
  },
  {
   "cell_type": "code",
   "execution_count": null,
   "metadata": {},
   "outputs": [],
   "source": [
    "res = my_client.executeNLPquery('show /r(.*)R3w(.*)_R(.*)/r')"
   ]
  },
  {
   "cell_type": "markdown",
   "metadata": {},
   "source": [
    "If we want to, we can load multiple neurons using their Hemibrain Body IDs from the original Neurprint database. Below, we will load three neurons using their Hemibrain Body IDs:"
   ]
  },
  {
   "cell_type": "code",
   "execution_count": null,
   "metadata": {},
   "outputs": [],
   "source": [
    "res = my_client.executeNLPquery('show /:referenceId:[5813014882, 912147912, 880875861]')"
   ]
  },
  {
   "cell_type": "markdown",
   "metadata": {},
   "source": [
    "#### Arborization-based Queries"
   ]
  },
  {
   "cell_type": "markdown",
   "metadata": {},
   "source": [
    "We can also make arborization-based queries. For example, let us show all neurons that have arborizations in right accessory Medulla (aMe):"
   ]
  },
  {
   "cell_type": "code",
   "execution_count": null,
   "metadata": {},
   "outputs": [],
   "source": [
    "res = my_client.executeNLPquery('show neurons in the right accessory medulla')\n",
    "# We also support using abbreviations of the neuropils, such as\n",
    "# res = my_client.executeNLPquery('show neurons in the right ame')"
   ]
  },
  {
   "cell_type": "markdown",
   "metadata": {},
   "source": [
    "We can also make more specific queries. For example, we can show neurons that have input site from the NEUROPIL EB and have output sites in the SUBREGION PB glomerulus R3."
   ]
  },
  {
   "cell_type": "code",
   "execution_count": null,
   "metadata": {},
   "outputs": [],
   "source": [
    "res = my_client.executeNLPquery('show neurons that have inputs in EB and outputs in PB glomerulus R3')"
   ]
  },
  {
   "cell_type": "markdown",
   "metadata": {},
   "source": [
    "we can also write:"
   ]
  },
  {
   "cell_type": "code",
   "execution_count": null,
   "metadata": {},
   "outputs": [],
   "source": [
    "res = my_client.executeNLPquery('show neurons that have dendrites in EB and axons in PB glomerulus R3')"
   ]
  },
  {
   "cell_type": "markdown",
   "metadata": {},
   "source": [
    "Combining name-based an arborization-based queries, wer query for EPG neurons that have output sites in PB glomerulus L8 or R2."
   ]
  },
  {
   "cell_type": "code",
   "execution_count": null,
   "metadata": {},
   "outputs": [],
   "source": [
    "res = my_client.executeNLPquery('show EPG neurons that have outputs in PB glomerulus L8 or PB glomerulus R2')"
   ]
  },
  {
   "cell_type": "markdown",
   "metadata": {},
   "source": [
    "For a list of neuropils and subregions that can be addressed in arborization-based queries, see [the Brain Regions](https://neuprint.janelia.org/help/brainregions) defined in the Hemibrain dataset."
   ]
  },
  {
   "cell_type": "markdown",
   "metadata": {},
   "source": [
    "#### Synaptic Partners-based Queries"
   ]
  },
  {
   "cell_type": "markdown",
   "metadata": {},
   "source": [
    "Queries can be based on synaptic partners. For example, we can show some neurons and add their presynaptic neurons."
   ]
  },
  {
   "cell_type": "code",
   "execution_count": null,
   "metadata": {},
   "outputs": [],
   "source": [
    "res = my_client.executeNLPquery('show TuBu05')\n",
    "res = my_client.executeNLPquery('color 00FF00')\n",
    "res = my_client.executeNLPquery('add postsynaptic neurons')\n",
    "res = my_client.executeNLPquery('color yellow')"
   ]
  },
  {
   "cell_type": "markdown",
   "metadata": {},
   "source": [
    "Combining with the other types of criteria, we can show EPG (EB-PB-LAL) neurons that are presynaptic to PEN (PB-EB-NO) neurons that have input sites in PB glomerulus R7 and the connections has at least 20 synapses. Then we add their postsynaptic PEG neurons with at least 10 synapses."
   ]
  },
  {
   "cell_type": "code",
   "execution_count": null,
   "metadata": {},
   "outputs": [],
   "source": [
    "res = my_client.executeNLPquery('show EPG presynaptic to PEN that have input in PB glomerulus R7 with at least 20 synapses')\n",
    "res = my_client.executeNLPquery('color lime')\n",
    "res = my_client.executeNLPquery('add postsynaptic PEG with at least 10 synapses')\n",
    "res = my_client.executeNLPquery('color yellow')"
   ]
  },
  {
   "cell_type": "markdown",
   "metadata": {},
   "source": [
    "## The FlyCircuit Dataset\n",
    "\n",
    "In this second part of the tutorial, we will instead focus on the FlyCircuit dataset. Close your Hemibrain workspace and initialize a FlyCircuit workspace. Then, create a reference to the workspace client:"
   ]
  },
  {
   "cell_type": "code",
   "execution_count": null,
   "metadata": {},
   "outputs": [],
   "source": [
    "my_client = fbl.get_client()"
   ]
  },
  {
   "cell_type": "markdown",
   "metadata": {},
   "source": [
    "The queries below are self-explanatory:"
   ]
  },
  {
   "cell_type": "code",
   "execution_count": null,
   "metadata": {},
   "outputs": [],
   "source": [
    "res = my_client.executeNLPquery('show neurons in the ellipsoid body')"
   ]
  },
  {
   "cell_type": "markdown",
   "metadata": {},
   "source": [
    "For this query, we can also write:"
   ]
  },
  {
   "cell_type": "code",
   "execution_count": null,
   "metadata": {},
   "outputs": [],
   "source": [
    "res = my_client.executeNLPquery('show neurons in the eb')"
   ]
  },
  {
   "cell_type": "code",
   "execution_count": null,
   "metadata": {},
   "outputs": [],
   "source": [
    "res = my_client.executeNLPquery('show neurons in central complex')"
   ]
  },
  {
   "cell_type": "code",
   "execution_count": null,
   "metadata": {},
   "outputs": [],
   "source": [
    "res = my_client.executeNLPquery('remove neurons in fan-shaped body')"
   ]
  },
  {
   "cell_type": "code",
   "execution_count": null,
   "metadata": {},
   "outputs": [],
   "source": [
    "res = my_client.executeNLPquery('add neurons projecting from antennal lobe to mushroom body')"
   ]
  },
  {
   "cell_type": "code",
   "execution_count": null,
   "metadata": {},
   "outputs": [],
   "source": [
    "res = my_client.executeNLPquery('keep neurons with outputs in lateral horn and inputs in mushroom body')"
   ]
  },
  {
   "cell_type": "code",
   "execution_count": null,
   "metadata": {},
   "outputs": [],
   "source": [
    "res = my_client.executeNLPquery('show dopaminergic neurons in right medulla')"
   ]
  },
  {
   "cell_type": "markdown",
   "metadata": {},
   "source": [
    "#### Supported Neuropils\n",
    "The names of the neuropils supported for searches and their abbreviations are available below. The ones that have both side can be separately addressed, for example, using left al and right al."
   ]
  },
  {
   "cell_type": "markdown",
   "metadata": {},
   "source": [
    "| Neuropil Name         | Abbreviation |\n",
    "|-------------------------------------------------------------------------|----------------------------------------------------------------|\n",
    "| Antennal Lobe                            | AL                                |\n",
    "| Antennal Mechanosensory and Motor Center | AMMC                              |\n",
    "| Caudalcentral Protocerebrum              | CCP                               |\n",
    "| Caudalmedial Protocerebrum               | CMP                               |\n",
    "| Caudal Ventrolateral Protocerebrum       | CVLP                              |\n",
    "| Dorsolateral Protocerebrum               | DLP                               |\n",
    "| Dorsomedial Protocerebrum                | DMP                               |\n",
    "| Ellipsoid Body                           | EB                                |\n",
    "| Fanshaped Body                           | FB                                |\n",
    "| Frontal Superpeduncular Protocerebrum    | FSPP                              |\n",
    "| Inferior Dorsofrontal Protocerebrum      | IDFP                              |\n",
    "| Inner Dorsolateral Protocerebrum         | IDLP                              |\n",
    "| Lateral Horn                             | LH                                |\n",
    "| Lobula                                   | Lob                               |\n",
    "| Lobula Plate                             | LoP                               |\n",
    "| Mushroom Body                            | MB                                |\n",
    "| Medulla                                  | Med                               |\n",
    "| Noduli                                   | Nod                               |\n",
    "| Optic Glomerulus                         | OG                                |\n",
    "| Optic Tubercle                           | OPTU                              |\n",
    "| Superior Dorsofrontal Protocerebrum      | SDFP                              |\n",
    "| Subesophageal Ganglion                   | SOG                               |\n",
    "| Superpeduncular Protocerebrum            | SPP                               |\n",
    "| Ventrolateral Protocerebrum              | VLP                               |\n",
    "| Ventromedial Protocerebrum               | VMP                               |\n"
   ]
  },
  {
   "cell_type": "markdown",
   "metadata": {},
   "source": [
    "## The Larva L1EM Dataset"
   ]
  },
  {
   "cell_type": "markdown",
   "metadata": {},
   "source": [
    "In the third part of the tutorial, we will focus on the Larva L1EM dataset. Close your previous workspaces and initialize an larva(l1em) workspace. Then, create a reference to the workspace client:"
   ]
  },
  {
   "cell_type": "code",
   "execution_count": null,
   "metadata": {},
   "outputs": [],
   "source": [
    "my_client = fbl.get_client()"
   ]
  },
  {
   "cell_type": "code",
   "execution_count": null,
   "metadata": {},
   "outputs": [],
   "source": [
    "res = my_client.executeNLPquery('show broad LN')"
   ]
  },
  {
   "cell_type": "code",
   "execution_count": null,
   "metadata": {},
   "outputs": [],
   "source": [
    "res = my_client.executeNLPquery('add postsynaptic uPN')"
   ]
  },
  {
   "cell_type": "code",
   "execution_count": null,
   "metadata": {},
   "outputs": [],
   "source": [
    "res = my_client.executeNLPquery('show dopaminergic neurons in MB')\n",
    "res = my_client.executeNLPquery('color yellow')\n",
    "res = my_client.executeNLPquery('show octopaminergic neurons in MB')\n",
    "res = my_client.executeNLPquery('color red')\n",
    "res = my_client.executeNLPquery('add postsynaptic KC')\n",
    "res = my_client.executeNLPquery('color white')\n",
    "res = my_client.executeNLPquery('add cholinergic postsynaptic MBON')\n",
    "res = my_client.executeNLPquery('color blue')"
   ]
  }
 ],
 "metadata": {
  "kernelspec": {
   "display_name": "Python 3",
   "language": "python",
   "name": "python3"
  },
  "language_info": {
   "codemirror_mode": {
    "name": "ipython",
    "version": 3
   },
   "file_extension": ".py",
   "mimetype": "text/x-python",
   "name": "python",
   "nbconvert_exporter": "python",
   "pygments_lexer": "ipython3",
   "version": "3.7.9"
  }
 },
 "nbformat": 4,
 "nbformat_minor": 4
}
