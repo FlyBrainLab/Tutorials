{
 "cells": [
  {
   "cell_type": "markdown",
   "metadata": {},
   "source": [
    "# Introduction to FBL: Part 5: Exploration\n",
    "\n",
    "In this demo we will look at some particular capabilities of FBL.\n",
    "Let us suppose that we have found information on a specific neuron; we will start with a FlyCircuit neuron.\n",
    "http://flycircuit.tw/modules.php?name=clearpage&op=detail_table&neuron=Gad1-F-400259\n",
    "\n",
    "Say we find a similar neuron; we can add them to our workspace with:"
   ]
  },
  {
   "cell_type": "code",
   "execution_count": 7,
   "metadata": {},
   "outputs": [],
   "source": [
    "my_client = fbl.get_client()\n",
    "res_dict = my_client.addByUname(['Cha-F-800086','Gad1-F-400259'])"
   ]
  },
  {
   "cell_type": "markdown",
   "metadata": {},
   "source": [
    "Let us get a mapping from the unames to rids:"
   ]
  },
  {
   "cell_type": "code",
   "execution_count": 8,
   "metadata": {},
   "outputs": [],
   "source": [
    "uname_to_rid = {v['uname']: rid for rid, v in res_dict.graph.nodes(data=True)\n",
    "                if 'uname' in v and v.get('class', None) != 'MorphologyData'}"
   ]
  },
  {
   "cell_type": "code",
   "execution_count": 9,
   "metadata": {},
   "outputs": [
    {
     "data": {
      "text/plain": [
       "{'Cha-F-800086': '#266:224', 'Gad1-F-400259': '#277:481'}"
      ]
     },
     "execution_count": 9,
     "metadata": {},
     "output_type": "execute_result"
    }
   ],
   "source": [
    "uname_to_rid"
   ]
  },
  {
   "cell_type": "markdown",
   "metadata": {},
   "source": [
    "We can save these neurons for later:"
   ]
  },
  {
   "cell_type": "code",
   "execution_count": null,
   "metadata": {},
   "outputs": [],
   "source": [
    "res = my_client.createTag('fbl_example_5')"
   ]
  },
  {
   "cell_type": "markdown",
   "metadata": {},
   "source": [
    "We can then load them back up:"
   ]
  },
  {
   "cell_type": "code",
   "execution_count": 11,
   "metadata": {},
   "outputs": [
    {
     "name": "stdout",
     "output_type": "stream",
     "text": [
      "[FBL Client 2021-01-26 16:16:06,123] Server Retrieved Tag Succesfully\n"
     ]
    }
   ],
   "source": [
    "res = my_client.loadTag('fbl_example_5')"
   ]
  },
  {
   "cell_type": "markdown",
   "metadata": {},
   "source": [
    "This allows us to store the state of a particular circuit for later.\n",
    "\n",
    "We can click on neurons in the 3D view to see their presynaptic and postsynaptic targets. We can also use the GetInfo function:"
   ]
  },
  {
   "cell_type": "code",
   "execution_count": 12,
   "metadata": {},
   "outputs": [],
   "source": [
    "res = my_client.getInfo(uname_to_rid['Cha-F-800086'])"
   ]
  },
  {
   "cell_type": "code",
   "execution_count": 13,
   "metadata": {},
   "outputs": [
    {
     "data": {
      "text/plain": [
       "{'uname': 'Cha-F-800086',\n",
       " 'name': 'Cha-F-800086',\n",
       " 'referenceId': 'Cha-F-800086',\n",
       " 'info': {'Author': 'AS Chiang (2015-06-25)',\n",
       "  'Driver': 'Cha-Gal4',\n",
       "  'Putative birth time': 'day 8'},\n",
       " 'class': 'Neuron',\n",
       " 'data_source': {'FlyCircuit': '1.2'},\n",
       " 'transmitters': ['acetylcholine'],\n",
       " 'orid': '#266:224',\n",
       " 'flycircuit_data': {'Name': 'Cha-F-800086',\n",
       "  'Soma Coordinate': 'X: -174, Y: 73, Z: -90',\n",
       "  'Author': 'AS Chiang (2015-06-25)',\n",
       "  'Driver': 'Cha-Gal4',\n",
       "  'Putative neurotransmitter': 'Acetylcholine',\n",
       "  'Stock': '',\n",
       "  'Gender/Age': 'female / Adult 5~15 days',\n",
       "  'Putative birth time': 'day 8',\n",
       "  'Lineage': '',\n",
       "  'Images (Download 3D Neuroimaging data, need registration)': 'Original confocal image (Animation) Segmentation Skeleton Full Screen, Download',\n",
       "  'Images': {'Original confocal image (Animation)': '/img/flycircuit/Cha-F-800086_lsm.png',\n",
       "   'Segmentation': '/img/flycircuit/Cha-F-800086_neuron.png'},\n",
       "  'Spatial Distribution': [0,\n",
       "   0,\n",
       "   0,\n",
       "   0,\n",
       "   232,\n",
       "   0,\n",
       "   0,\n",
       "   0,\n",
       "   0,\n",
       "   0,\n",
       "   0,\n",
       "   0,\n",
       "   221,\n",
       "   6,\n",
       "   0,\n",
       "   0,\n",
       "   0,\n",
       "   0,\n",
       "   0,\n",
       "   0,\n",
       "   46,\n",
       "   407,\n",
       "   0,\n",
       "   0,\n",
       "   2630,\n",
       "   282,\n",
       "   0,\n",
       "   0,\n",
       "   1272,\n",
       "   988,\n",
       "   0,\n",
       "   0,\n",
       "   0,\n",
       "   0,\n",
       "   9376,\n",
       "   345,\n",
       "   0,\n",
       "   0,\n",
       "   0,\n",
       "   0,\n",
       "   0,\n",
       "   0,\n",
       "   0,\n",
       "   0,\n",
       "   0,\n",
       "   0,\n",
       "   0,\n",
       "   0,\n",
       "   7543,\n",
       "   714,\n",
       "   0,\n",
       "   0,\n",
       "   1232,\n",
       "   16,\n",
       "   0,\n",
       "   0,\n",
       "   0,\n",
       "   0],\n",
       "  'Similar neurons': [{'Name': 'Cha-F-800086',\n",
       "    'γ': '1',\n",
       "    'pValue': '2.2e-16',\n",
       "    'img': '/flycircuitSourceData/NeuronData_v1.2/Cha-F-800086/Cha-F-800086_lsm.png'},\n",
       "   {'Name': 'Gad1-F-400259',\n",
       "    'γ': '0.72',\n",
       "    'pValue': '2.2e-16',\n",
       "    'img': '/flycircuitSourceData/NeuronData_v1.2/Gad1-F-400259/Gad1-F-400259_lsm.png'},\n",
       "   {'Name': 'E0585-F-200015',\n",
       "    'γ': '0.64',\n",
       "    'pValue': '2.2e-16',\n",
       "    'img': '/flycircuitSourceData/NeuronData_v1.2/E0585-F-200015/E0585-F-200015_lsm.png'},\n",
       "   {'Name': 'Cha-F-800051',\n",
       "    'γ': '0.61',\n",
       "    'pValue': '2.2e-16',\n",
       "    'img': '/flycircuitSourceData/NeuronData_v1.2/Cha-F-800051/Cha-F-800051_lsm.png'}]},\n",
       " 'arborization_data': {'inferred_dendritic_segments': {'SPP': 9,\n",
       "   'MB': 18,\n",
       "   'LH': 18,\n",
       "   'SDFP': 57,\n",
       "   'IDLP': 15},\n",
       "  'inferred_axonal_segments': {'lh': 13, 'fspp': 4, 'sdfp': 9}}}"
      ]
     },
     "execution_count": 13,
     "metadata": {},
     "output_type": "execute_result"
    }
   ],
   "source": [
    "res['data']['summary']"
   ]
  },
  {
   "cell_type": "code",
   "execution_count": null,
   "metadata": {},
   "outputs": [],
   "source": []
  }
 ],
 "metadata": {
  "kernelspec": {
   "display_name": "Python 3",
   "language": "python",
   "name": "python3"
  },
  "language_info": {
   "codemirror_mode": {
    "name": "ipython",
    "version": 3
   },
   "file_extension": ".py",
   "mimetype": "text/x-python",
   "name": "python",
   "nbconvert_exporter": "python",
   "pygments_lexer": "ipython3",
   "version": "3.7.9"
  }
 },
 "nbformat": 4,
 "nbformat_minor": 4
}
