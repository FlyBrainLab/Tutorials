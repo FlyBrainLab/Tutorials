{
 "cells": [
  {
   "cell_type": "markdown",
   "metadata": {},
   "source": [
    "# Retrieving and Parsing Information on Neurons\n",
    "\n",
    "**Important:** Before starting to run the code below, **(i)** create an FBL workspace for Hemibrain, **(ii)** change the kernel for this notebook to the kernel you just created."
   ]
  },
  {
   "cell_type": "code",
   "execution_count": 4,
   "metadata": {},
   "outputs": [
    {
     "name": "stdout",
     "output_type": "stream",
     "text": [
      "[FFBOLab Client NLP 2020-09-07 21:55:48] NLP successfully parsed query.\n",
      "[FFBOLab Client NLP 2020-09-07 21:55:49] Received a message.\n",
      "[FFBOLab Client NLP 2020-09-07 21:55:49] Received a command.\n",
      "[FFBOLab Client NLP 2020-09-07 21:55:49] Received data.\n",
      "[FFBOLab Client NLP 2020-09-07 21:55:49] Received a message.\n",
      "[FFBOLab Client NLP 2020-09-07 21:55:49] Received data.\n",
      "[]\n"
     ]
    }
   ],
   "source": [
    "%matplotlib inline\n",
    "my_client = fbl.get_client()\n",
    "data = my_client.executeNLPquery('show $_DM4$')"
   ]
  },
  {
   "cell_type": "markdown",
   "metadata": {},
   "source": [
    "We can now try to get information on the neuron we retrieve:"
   ]
  },
  {
   "cell_type": "code",
   "execution_count": 5,
   "metadata": {},
   "outputs": [],
   "source": [
    "info = my_client.getInfo('#799:194')"
   ]
  },
  {
   "cell_type": "markdown",
   "metadata": {},
   "source": [
    "To use the getInfo function we need to know a neuron's rid, which we can get using executeNLPquery. Let us look at the structure of the retrieved information; first, let us start with the summary:"
   ]
  },
  {
   "cell_type": "code",
   "execution_count": 6,
   "metadata": {},
   "outputs": [
    {
     "data": {
      "text/plain": [
       "{'name': 'DM4 adPN',\n",
       " 'uname': 'mPN1_DM4(AVM01)_R_1',\n",
       " 'referenceId': '573333835',\n",
       " 'locality': False,\n",
       " 'class': 'Neuron',\n",
       " 'data_source': {'Hemibrain': '1.0.1'},\n",
       " 'orid': '#543:194',\n",
       " 'info': None,\n",
       " 'arborization_data': {'input_synapses': {'MB(R)': 362,\n",
       "   'LH(R)': 830,\n",
       "   'AL(R)': 6321,\n",
       "   'SLP(R)': 7},\n",
       "  'output_synapses': {'MB(R)': 859, 'LH(R)': 1545, 'AL(R)': 1223, 'SLP(R)': 7},\n",
       "  'type': 'neuropils'}}"
      ]
     },
     "execution_count": 6,
     "metadata": {},
     "output_type": "execute_result"
    }
   ],
   "source": [
    "info['data']['data']['summary']"
   ]
  },
  {
   "cell_type": "markdown",
   "metadata": {},
   "source": [
    "Let us now look at the connectivity; this part of the retrieved data shows the presynaptic and postsynaptic partners:"
   ]
  },
  {
   "cell_type": "code",
   "execution_count": 7,
   "metadata": {},
   "outputs": [
    {
     "data": {
      "text/plain": [
       "dict_keys(['post', 'pre'])"
      ]
     },
     "execution_count": 7,
     "metadata": {},
     "output_type": "execute_result"
    }
   ],
   "source": [
    "info['data']['data']['connectivity'].keys()"
   ]
  },
  {
   "cell_type": "markdown",
   "metadata": {},
   "source": [
    "We can look at the inputs and outputs from different cell types as percentages of the total:"
   ]
  },
  {
   "cell_type": "code",
   "execution_count": 8,
   "metadata": {},
   "outputs": [
    {
     "data": {
      "text/plain": [
       "{'number': 6269,\n",
       " 'profile': {'ab3A_OSN': 0.3668846706013718,\n",
       "  'KCg': 0.2711756260966661,\n",
       "  'olfactory LN': 29.143404051682882,\n",
       "  'KCab': 0.638060296698038,\n",
       "  'ab1A_OSN': 0.23927261126176425,\n",
       "  'PDL19f_a_pct': 0.01595150741745095,\n",
       "  'VM7d adPN': 0.0319030148349019,\n",
       "  'ac3A_OSN': 0.01595150741745095,\n",
       "  \"KCa'b'\": 0.11166055192215664,\n",
       "  'ADL04oi_pct': 0.01595150741745095,\n",
       "  'ADL05r_pct': 0.01595150741745095,\n",
       "  'DL2v adPN': 0.01595150741745095,\n",
       "  'OSN': 0.01595150741745095,\n",
       "  'ADL10i_pct': 0.01595150741745095,\n",
       "  'ADL13q_pct': 0.01595150741745095,\n",
       "  'ADL04oc_pct': 0.01595150741745095,\n",
       "  'ADL05q_c_pct': 0.30307864093156806,\n",
       "  'PDL08f_pct': 0.01595150741745095,\n",
       "  'VL2p adPN': 0.01595150741745095,\n",
       "  'ADL11ob_pct': 0.01595150741745095,\n",
       "  'ADL01op_pct': 0.01595150741745095,\n",
       "  'PDL13oe_pct': 0.01595150741745095,\n",
       "  'ADL17d_d_pct': 0.01595150741745095,\n",
       "  'VA1d adPN': 0.01595150741745095,\n",
       "  'ADL01x_pct': 0.01595150741745095,\n",
       "  'ADL26i_pct': 0.01595150741745095,\n",
       "  'PDL11of_pct': 0.01595150741745095,\n",
       "  'ADL05s_pct': 0.01595150741745095,\n",
       "  'ADL02n_pct': 0.01595150741745095,\n",
       "  'ADL10b_pct': 0.01595150741745095,\n",
       "  'PDL19f_b_pct': 0.01595150741745095,\n",
       "  'ADL13p_pct': 0.01595150741745095,\n",
       "  'pb3A_OSN': 0.01595150741745095,\n",
       "  'ADL05p_a_pct': 0.2711756260966661,\n",
       "  'ADL01q_b_pct': 0.01595150741745095,\n",
       "  'DM4 vPN': 0.01595150741745095,\n",
       "  'ADL01m_pct': 0.01595150741745095,\n",
       "  'ADL05q_e_pct': 0.0638060296698038,\n",
       "  'PDL08oh_pct': 0.01595150741745095,\n",
       "  'PVM01g_pct': 0.01595150741745095,\n",
       "  'ADL05ol_pct': 0.01595150741745095,\n",
       "  'olfactory multi vPN mlALT': 0.0638060296698038,\n",
       "  'ADL17b_pct': 0.0319030148349019,\n",
       "  'PDL23e_pct': 0.01595150741745095,\n",
       "  'unknown': 4.243100973041953,\n",
       "  'ADL19a_pct': 0.01595150741745095,\n",
       "  'ADL03m_x_pct': 0.01595150741745095,\n",
       "  'PDL08u_pct': 0.01595150741745095,\n",
       "  'DM3 adPN': 0.01595150741745095,\n",
       "  'ADL01q_a_pct': 0.0319030148349019,\n",
       "  'ADL13s_pct': 0.01595150741745095,\n",
       "  'ADL05r_d_pct': 0.01595150741745095,\n",
       "  'VA7l adPN': 0.01595150741745095,\n",
       "  'pb1A_OSN': 0.14356356675705853,\n",
       "  'PDL08i_pct': 0.04785452225235285,\n",
       "  'PDL08ol_pct': 0.01595150741745095,\n",
       "  'ADL03k_c_pct': 0.01595150741745095,\n",
       "  'PDL13f_a_pct': 0.01595150741745095,\n",
       "  'ADL05ok_pct': 0.01595150741745095,\n",
       "  'PDL08q_pct': 0.04785452225235285,\n",
       "  'OA': 0.01595150741745095,\n",
       "  'olfactory multi lPN mALT': 0.17546658159196044,\n",
       "  'VA4 lPN': 0.01595150741745095,\n",
       "  'PDM30g_pct': 0.0319030148349019,\n",
       "  'DP1m vPN': 0.0319030148349019,\n",
       "  'DM2 lPN': 0.0319030148349019,\n",
       "  'PDL13f_c_pct': 0.0319030148349019,\n",
       "  'ADL05w_c_pct': 0.0319030148349019,\n",
       "  'PDL08m_a_pct': 0.0319030148349019,\n",
       "  'ADL01on_pct': 0.0319030148349019,\n",
       "  'ADL19i_a_pct': 0.11166055192215664,\n",
       "  'SIFamide': 0.07975753708725475,\n",
       "  'PDL19q_pct': 0.0319030148349019,\n",
       "  'olfactory multi lvPN mALT': 0.17546658159196044,\n",
       "  'DM5 lPN': 0.0319030148349019,\n",
       "  'ADL05oa_pct': 0.07975753708725475,\n",
       "  'MBON28': 0.0957090445047057,\n",
       "  'olfactory multi lPN lALT': 0.0319030148349019,\n",
       "  'VM3 adPN': 0.0319030148349019,\n",
       "  'VA2 adPN': 0.04785452225235285,\n",
       "  'ADL05r_e_pct': 0.11166055192215664,\n",
       "  'ADL19i_b_pct': 0.1276120593396076,\n",
       "  'ADL17d_a_pct': 0.04785452225235285,\n",
       "  'PDM30f_pct': 0.04785452225235285,\n",
       "  'ADL05b_pct': 0.9092359227947041,\n",
       "  'VM7v adPN': 0.04785452225235285,\n",
       "  'PDL11j_pct': 0.0638060296698038,\n",
       "  'PDL26c_pct': 0.0638060296698038,\n",
       "  'ADL01os_pct': 0.5583027596107832,\n",
       "  'PDM32a_pct': 0.0957090445047057,\n",
       "  'ADL01or_pct': 0.11166055192215664,\n",
       "  'putative OA': 0.28712713351411706,\n",
       "  'ADL15e_pct': 0.14356356675705853,\n",
       "  'DP1m adPN': 0.14356356675705853,\n",
       "  'PVL17i_pct': 0.2711756260966661,\n",
       "  'ADL24h_pct': 0.638060296698038,\n",
       "  'AVM03p': 0.3828361780188228,\n",
       "  'ab2A_OSN': 49.832509172116765,\n",
       "  'PDL13f_b_pct': 2.0258414420162705,\n",
       "  'DM1 lPN': 0.7178178337852927,\n",
       "  'PVM10m_pct': 1.0208964747168607,\n",
       "  'APL': 1.260169085978625,\n",
       "  'ADL01oe_pct': 1.3239751156484287,\n",
       "  'PDM30e_pct': 1.882277875259212}}"
      ]
     },
     "execution_count": 8,
     "metadata": {},
     "output_type": "execute_result"
    }
   ],
   "source": [
    "info['data']['data']['connectivity']['pre']['summary']"
   ]
  },
  {
   "cell_type": "markdown",
   "metadata": {},
   "source": [
    "```details``` field is a list with an entry per neuron, giving the name of the rid and the uname for each of the partners as well as the synapses themselves. The synapses can be retrieved by using the appropriate rid as well. Let us look at the first element in the list:"
   ]
  },
  {
   "cell_type": "code",
   "execution_count": 9,
   "metadata": {},
   "outputs": [
    {
     "data": {
      "text/plain": [
       "{'has_morph': 1,\n",
       " 'has_syn_morph': 1,\n",
       " 'number': 1,\n",
       " 'n_rid': '#551:674',\n",
       " 's_rid': '#586:106304',\n",
       " 'rid': '#807:674',\n",
       " 'syn_rid': '#778:107074',\n",
       " 'syn_uname': 'ab3A_OSN_9--mPN1_DM4(AVM01)_R_1',\n",
       " 'inferred': False,\n",
       " 'name': 'ab3A_OSN',\n",
       " 'uname': 'ab3A_OSN_9',\n",
       " 'referenceId': '1824813936',\n",
       " 'locality': False,\n",
       " 'synonyms': ['ORN',\n",
       "  'olfactory receptor neurons',\n",
       "  'olfactory sensory neurons'],\n",
       " 'info': {'target_glomerulus': 'DM2',\n",
       "  'receptors': ['OR22a', 'OR22b'],\n",
       "  'name': 'ab3A',\n",
       "  'co-receptors': ['Orco'],\n",
       "  'sensillum': 'basiconica',\n",
       "  'sensillum location': 'antenna'},\n",
       " 'class': 'Neuron'}"
      ]
     },
     "execution_count": 9,
     "metadata": {},
     "output_type": "execute_result"
    }
   ],
   "source": [
    "info['data']['data']['connectivity']['pre']['details'][0]"
   ]
  }
 ],
 "metadata": {
  "kernelspec": {
   "display_name": "Python 3",
   "language": "python",
   "name": "python3"
  },
  "language_info": {
   "codemirror_mode": {
    "name": "ipython",
    "version": 3
   },
   "file_extension": ".py",
   "mimetype": "text/x-python",
   "name": "python",
   "nbconvert_exporter": "python",
   "pygments_lexer": "ipython3",
   "version": "3.7.8"
  }
 },
 "nbformat": 4,
 "nbformat_minor": 4
}
