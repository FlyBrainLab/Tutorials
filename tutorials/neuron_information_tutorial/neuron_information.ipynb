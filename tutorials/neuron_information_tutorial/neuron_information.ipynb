{
 "cells": [
  {
   "cell_type": "markdown",
   "metadata": {},
   "source": [
    "# Retrieving and Parsing Information on Neurons\n",
    "\n",
    "**Important:** Before starting to run the code below, **(i)** create an FBL workspace for Hemibrain, **(ii)** change the kernel for this notebook to the kernel you just created."
   ]
  },
  {
   "cell_type": "code",
   "execution_count": 7,
   "metadata": {},
   "outputs": [
    {
     "name": "stdout",
     "output_type": "stream",
     "text": [
      "[FBL NLP 2021-01-25 07:44:54,217] NLP successfully parsed query.\n"
     ]
    }
   ],
   "source": [
    "%matplotlib inline\n",
    "my_client = fbl.get_client()\n",
    "data = my_client.executeNLPquery('show $_DM4$')"
   ]
  },
  {
   "cell_type": "markdown",
   "metadata": {},
   "source": [
    "We can now print the identifiers for all neurons in the result:"
   ]
  },
  {
   "cell_type": "code",
   "execution_count": 8,
   "metadata": {},
   "outputs": [
    {
     "name": "stdout",
     "output_type": "stream",
     "text": [
      "{'ORN_DM4_L_21': '#268:1346', 'ORN_DM4_L_22': '#266:1348', 'ORN_DM4_L_15': '#268:1337', 'ORN_DM4_L_23': '#268:1348', 'ORN_DM4_R_19': '#268:1354', 'ORN_DM4_L_2': '#269:1310', 'ORN_DM4_L_3': '#269:1312', 'ORN_DM4_L_16': '#265:1339', 'ORN_DM4_R_24': '#268:1358', 'ORN_DM4_L_11': '#268:1331', 'ORN_DM4_R_23': '#266:1356', 'ORN_DM4_L_28': '#265:1353', 'ORN_DM4_L_14': '#266:1335', 'ORN_DM4_L_12': '#269:1331', 'ORN_DM4_R_8': '#267:1327', 'ORN_DM4_R_12': '#268:1342', 'ORN_DM4_1': '#267:1334', 'ORN_DM4_L_10': '#269:1327', 'ORN_DM4_L_24': '#267:1350', 'ORN_DM4_R_7': '#266:1324', 'ORN_DM4_R_17': '#270:1353', 'ORN_DM4_R_20': '#269:1354', 'ORN_DM4_L_8': '#271:1324', 'ORN_DM4_R_4': '#273:1316', 'ORN_DM4_L_20': '#273:1341', 'ORN_DM4_L_26': '#273:1351', 'ORN_DM4_L_7': '#273:1323', 'ORN_DM4_R_14': '#271:1347', 'ORN_DM4_L_13': '#273:1331', 'ORN_DM4_L_6': '#274:1317', 'ORN_DM4_R_11': '#271:1341', 'ORN_DM4_L_4': '#274:1312', 'ORN_DM4_R_5': '#270:1320', 'ORN_DM4_L_17': '#274:1339', 'ORN_DM4_R_25': '#274:1359', 'ORN_DM4_R_2': '#274:1302', 'ORN_DM4_L_27': '#271:1352', 'ORN_DM4_R_9': '#270:1330', 'ORN_DM4_R_18': '#271:1353', 'ORN_DM4_L_18': '#273:1340', 'ORN_DM4_R_21': '#276:1354', 'ORN_DM4_R_3': '#278:1313', 'ORN_DM4_L_25': '#277:1350', 'ORN_DM4_R_22': '#280:1355', 'ORN_DM4_R_16': '#275:1349', 'ORN_DM4_R_27': '#276:1363', 'ORN_DM4_L_19': '#275:1340', 'ORN_DM4_R_1': '#275:1278', 'ORN_DM4_2': '#276:1348', 'ORN_DM4_L_30': '#277:1356', 'ORN_DM4_R_10': '#280:1336', 'ORN_DM4_R_13': '#279:1346', 'ORN_DM4_L_9': '#279:1324', 'ORN_DM4_L_1': '#275:1302', 'ORN_DM4_R_28': '#279:1400', 'ORN_DM4_L_29': '#280:1353', 'ORN_DM4_R_15': '#276:1347', 'ORN_DM4_R_6': '#277:1323', 'ORN_DM4_L_5': '#280:1314', 'ORN_DM4_R_26': '#274:1362'}\n"
     ]
    }
   ],
   "source": [
    "print({v['uname']: k for k, v in data.neurons.items()})"
   ]
  },
  {
   "cell_type": "markdown",
   "metadata": {},
   "source": [
    "Let's pick one:"
   ]
  },
  {
   "cell_type": "code",
   "execution_count": 9,
   "metadata": {},
   "outputs": [],
   "source": [
    "my_rid = list(data.neurons.keys())[0]"
   ]
  },
  {
   "cell_type": "markdown",
   "metadata": {},
   "source": [
    "We can now try to get information on the neuron we retrieve:"
   ]
  },
  {
   "cell_type": "code",
   "execution_count": 10,
   "metadata": {},
   "outputs": [],
   "source": [
    "info = my_client.getInfo(my_rid)"
   ]
  },
  {
   "cell_type": "markdown",
   "metadata": {},
   "source": [
    "To use the getInfo function we need to know a neuron's rid, which we can get using executeNLPquery. Let us look at the structure of the retrieved information; first, let us start with the summary:"
   ]
  },
  {
   "cell_type": "code",
   "execution_count": 11,
   "metadata": {},
   "outputs": [
    {
     "data": {
      "text/plain": [
       "{'uname': 'ORN_DM4_L_21',\n",
       " 'name': 'ORN_DM4',\n",
       " 'referenceId': '1697613506',\n",
       " 'class': 'Neuron',\n",
       " 'data_source': {'Hemibrain': '1.1'},\n",
       " 'orid': '#268:1346',\n",
       " 'info': None,\n",
       " 'arborization_data': {'input_synapses': {'AL-DM1(L)': 1,\n",
       "   'AL(R)': 99,\n",
       "   'AL-DM4(R)': 99,\n",
       "   'AL-DM4(L)': 93,\n",
       "   'AL(L)': 94},\n",
       "  'output_synapses': {'AL-DM1(L)': 2,\n",
       "   'AL(R)': 59,\n",
       "   'AL-DM4(R)': 59,\n",
       "   'AL-DM4(L)': 64,\n",
       "   'AL(L)': 66}}}"
      ]
     },
     "execution_count": 11,
     "metadata": {},
     "output_type": "execute_result"
    }
   ],
   "source": [
    "info['data']['summary']"
   ]
  },
  {
   "cell_type": "markdown",
   "metadata": {},
   "source": [
    "Let us now look at the connectivity; this part of the retrieved data shows the presynaptic and postsynaptic partners:"
   ]
  },
  {
   "cell_type": "code",
   "execution_count": 12,
   "metadata": {},
   "outputs": [
    {
     "data": {
      "text/plain": [
       "dict_keys(['post', 'pre'])"
      ]
     },
     "execution_count": 12,
     "metadata": {},
     "output_type": "execute_result"
    }
   ],
   "source": [
    "info['data']['connectivity'].keys()"
   ]
  },
  {
   "cell_type": "markdown",
   "metadata": {},
   "source": [
    "We can look at the inputs and outputs from different cell types as percentages of the total:"
   ]
  },
  {
   "cell_type": "code",
   "execution_count": 13,
   "metadata": {},
   "outputs": [
    {
     "data": {
      "text/plain": [
       "{'number': 161,\n",
       " 'profile': {'ORN_DM4': 44.72049689440994,\n",
       "  'CSD': 0.6211180124223602,\n",
       "  'il3LN6': 1.8633540372670807,\n",
       "  'unknown': 17.391304347826086,\n",
       "  'ORN_DM1': 0.6211180124223602,\n",
       "  'lLN2T_b': 2.484472049689441,\n",
       "  'lLN2F_a': 3.1055900621118013,\n",
       "  'lLN2T_e': 3.1055900621118013,\n",
       "  'lLN2P_b': 7.453416149068323,\n",
       "  'lLN2T_d': 8.695652173913043,\n",
       "  'lLN2F_b': 9.937888198757763}}"
      ]
     },
     "execution_count": 13,
     "metadata": {},
     "output_type": "execute_result"
    }
   ],
   "source": [
    "info['data']['connectivity']['pre']['summary']"
   ]
  },
  {
   "cell_type": "markdown",
   "metadata": {},
   "source": [
    "```details``` field is a list with an entry per neuron, giving the name of the rid and the uname for each of the partners as well as the synapses themselves. The synapses can be retrieved by using the appropriate rid as well. Let us look at the first element in the list:"
   ]
  },
  {
   "cell_type": "code",
   "execution_count": 14,
   "metadata": {},
   "outputs": [
    {
     "data": {
      "text/plain": [
       "{'has_morph': 1,\n",
       " 'has_syn_morph': 1,\n",
       " 'number': 1,\n",
       " 'n_rid': '#271:1353',\n",
       " 's_rid': '#307:216846',\n",
       " 'rid': '#408:1366',\n",
       " 'syn_rid': '#403:218467',\n",
       " 'syn_uname': 'ORN_DM4_R_18--ORN_DM4_L_21',\n",
       " 'inferred': False,\n",
       " 'uname': 'ORN_DM4_R_18',\n",
       " 'name': 'ORN_DM4',\n",
       " 'referenceId': '1729995175',\n",
       " 'class': 'Neuron'}"
      ]
     },
     "execution_count": 14,
     "metadata": {},
     "output_type": "execute_result"
    }
   ],
   "source": [
    "info['data']['connectivity']['pre']['details'][0]"
   ]
  }
 ],
 "metadata": {
  "kernelspec": {
   "display_name": "Python 3",
   "language": "python",
   "name": "python3"
  },
  "language_info": {
   "codemirror_mode": {
    "name": "ipython",
    "version": 3
   },
   "file_extension": ".py",
   "mimetype": "text/x-python",
   "name": "python",
   "nbconvert_exporter": "python",
   "pygments_lexer": "ipython3",
   "version": "3.7.9"
  }
 },
 "nbformat": 4,
 "nbformat_minor": 4
}
